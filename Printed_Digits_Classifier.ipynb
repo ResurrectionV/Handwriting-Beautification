{
 "cells": [
  {
   "cell_type": "code",
   "execution_count": 4,
   "metadata": {
    "colab": {
     "base_uri": "https://localhost:8080/"
    },
    "id": "LiVqDaXQKZfW",
    "outputId": "d841a384-31d0-47e6-91ca-29abb32fe6ed"
   },
   "outputs": [],
   "source": [
    "import os\n",
    "from torchvision import transforms\n",
    "from torch.utils.data import Dataset\n",
    "from PIL import Image\n",
    "from torch.utils.data import DataLoader\n",
    "\n",
    "\n",
    "class PrintedDigitsDataset(Dataset):\n",
    "    def __init__(self, root_dir, transform=None):\n",
    "        self.root_dir = root_dir\n",
    "        self.transform = transform\n",
    "        self.samples = []\n",
    "\n",
    "        for font_folder in os.listdir(root_dir):\n",
    "            font_path = os.path.join(root_dir, font_folder)\n",
    "            if os.path.isdir(font_path):\n",
    "                for label in os.listdir(font_path):\n",
    "                    label_path = os.path.join(font_path, label)\n",
    "                    if os.path.isdir(label_path):\n",
    "                        for image_file in os.listdir(label_path):\n",
    "                            image_path = os.path.join(label_path, image_file)\n",
    "                            self.samples.append((image_path, int(label)))\n",
    "\n",
    "    def __len__(self):\n",
    "        return len(self.samples)\n",
    "\n",
    "    def __getitem__(self, idx):\n",
    "        image_path, label = self.samples[idx]\n",
    "        image = Image.open(image_path).convert(\"RGB\")\n",
    "        if self.transform:\n",
    "            image = self.transform(image)\n",
    "        return image, label\n",
    "\n",
    "transform = transforms.Compose([\n",
    "    transforms.Grayscale(num_output_channels=1),\n",
    "    transforms.Resize((28, 28)),\n",
    "    transforms.ToTensor(),\n",
    "    transforms.Normalize((0.5,), (0.5,))\n",
    "])\n",
    "\n",
    "data_path = \"./printed_digits\"\n",
    "train_dataset = PrintedDigitsDataset(root_dir=data_path, transform=transform)\n",
    "\n",
    "train_loader = DataLoader(train_dataset, batch_size=16, shuffle=True)\n",
    "\n",
    "# print(f\"Total samples: {len(train_dataset)}\")\n"
   ]
  },
  {
   "cell_type": "code",
   "execution_count": 5,
   "metadata": {
    "id": "rTIQiQO5NEx6"
   },
   "outputs": [],
   "source": [
    "import torch\n",
    "import torch.nn as nn\n",
    "import torch.nn.functional as F\n",
    "\n",
    "class DigitClassifier(nn.Module):\n",
    "    def __init__(self, num_classes=10):\n",
    "        super(DigitClassifier, self).__init__()\n",
    "        self.conv1 = nn.Conv2d(1, 32, kernel_size=3, padding=1)\n",
    "        self.conv2 = nn.Conv2d(32, 64, kernel_size=3, padding=1)\n",
    "        self.fc1 = nn.Linear(64 * 7 * 7, 128)\n",
    "        self.fc2 = nn.Linear(128, num_classes)\n",
    "\n",
    "    def forward(self, x):\n",
    "        x = F.relu(self.conv1(x))\n",
    "        x = F.max_pool2d(x, 2)\n",
    "        x = F.relu(self.conv2(x))\n",
    "        x = F.max_pool2d(x, 2)\n",
    "        x = x.view(x.size(0), -1)  # Flatten\n",
    "        x = F.relu(self.fc1(x))\n",
    "        x = self.fc2(x)\n",
    "        return x\n"
   ]
  },
  {
   "cell_type": "code",
   "execution_count": 6,
   "metadata": {
    "colab": {
     "base_uri": "https://localhost:8080/"
    },
    "id": "kBiND-uyNPsn",
    "outputId": "24bbd01a-fd6e-47e8-c216-f6510d778aa0"
   },
   "outputs": [
    {
     "name": "stdout",
     "output_type": "stream",
     "text": [
      "Epoch 1/50, Loss: 9.3809, Accuracy: 18.00%\n",
      "Epoch 2/50, Loss: 8.9409, Accuracy: 24.00%\n",
      "Epoch 3/50, Loss: 8.8852, Accuracy: 10.00%\n",
      "Epoch 4/50, Loss: 8.3283, Accuracy: 32.00%\n",
      "Epoch 5/50, Loss: 7.7466, Accuracy: 48.00%\n",
      "Epoch 6/50, Loss: 6.8954, Accuracy: 60.00%\n",
      "Epoch 7/50, Loss: 5.6194, Accuracy: 80.00%\n",
      "Epoch 8/50, Loss: 5.4467, Accuracy: 66.00%\n",
      "Epoch 9/50, Loss: 4.2761, Accuracy: 72.00%\n",
      "Epoch 10/50, Loss: 3.1454, Accuracy: 82.00%\n",
      "Epoch 11/50, Loss: 2.2309, Accuracy: 80.00%\n",
      "Epoch 12/50, Loss: 2.4109, Accuracy: 80.00%\n",
      "Epoch 13/50, Loss: 1.5198, Accuracy: 94.00%\n",
      "Epoch 14/50, Loss: 1.2443, Accuracy: 92.00%\n",
      "Epoch 15/50, Loss: 0.8572, Accuracy: 98.00%\n",
      "Epoch 16/50, Loss: 0.4948, Accuracy: 100.00%\n",
      "Epoch 17/50, Loss: 0.3824, Accuracy: 100.00%\n",
      "Epoch 18/50, Loss: 0.2696, Accuracy: 100.00%\n",
      "Epoch 19/50, Loss: 0.2192, Accuracy: 100.00%\n",
      "Epoch 20/50, Loss: 0.1719, Accuracy: 100.00%\n",
      "Epoch 21/50, Loss: 0.1432, Accuracy: 100.00%\n",
      "Epoch 22/50, Loss: 0.1491, Accuracy: 100.00%\n",
      "Epoch 23/50, Loss: 0.1056, Accuracy: 100.00%\n",
      "Epoch 24/50, Loss: 0.0829, Accuracy: 100.00%\n",
      "Epoch 25/50, Loss: 0.0856, Accuracy: 100.00%\n",
      "Epoch 26/50, Loss: 0.0997, Accuracy: 100.00%\n",
      "Epoch 27/50, Loss: 0.0691, Accuracy: 100.00%\n",
      "Epoch 28/50, Loss: 0.0973, Accuracy: 100.00%\n",
      "Epoch 29/50, Loss: 0.0765, Accuracy: 100.00%\n",
      "Epoch 30/50, Loss: 0.0725, Accuracy: 100.00%\n",
      "Epoch 31/50, Loss: 0.0473, Accuracy: 100.00%\n",
      "Epoch 32/50, Loss: 0.0356, Accuracy: 100.00%\n",
      "Epoch 33/50, Loss: 0.0394, Accuracy: 100.00%\n",
      "Epoch 34/50, Loss: 0.0289, Accuracy: 100.00%\n",
      "Epoch 35/50, Loss: 0.0249, Accuracy: 100.00%\n",
      "Epoch 36/50, Loss: 0.0311, Accuracy: 100.00%\n",
      "Epoch 37/50, Loss: 0.0317, Accuracy: 100.00%\n",
      "Epoch 38/50, Loss: 0.0228, Accuracy: 100.00%\n",
      "Epoch 39/50, Loss: 0.0206, Accuracy: 100.00%\n",
      "Epoch 40/50, Loss: 0.0204, Accuracy: 100.00%\n",
      "Epoch 41/50, Loss: 0.0218, Accuracy: 100.00%\n",
      "Epoch 42/50, Loss: 0.0174, Accuracy: 100.00%\n",
      "Epoch 43/50, Loss: 0.0177, Accuracy: 100.00%\n",
      "Epoch 44/50, Loss: 0.0193, Accuracy: 100.00%\n",
      "Epoch 45/50, Loss: 0.0137, Accuracy: 100.00%\n",
      "Epoch 46/50, Loss: 0.0181, Accuracy: 100.00%\n",
      "Epoch 47/50, Loss: 0.0141, Accuracy: 100.00%\n",
      "Epoch 48/50, Loss: 0.0242, Accuracy: 100.00%\n",
      "Epoch 49/50, Loss: 0.0210, Accuracy: 100.00%\n",
      "Epoch 50/50, Loss: 0.0242, Accuracy: 100.00%\n"
     ]
    }
   ],
   "source": [
    "import torch.optim as optim\n",
    "\n",
    "model = DigitClassifier(num_classes=10)\n",
    "criterion = nn.CrossEntropyLoss()\n",
    "optimizer = optim.Adam(model.parameters(), lr=0.001)\n",
    "\n",
    "def train_model(model, train_loader, optimizer, criterion, epochs=5):\n",
    "    model.train()\n",
    "    for epoch in range(epochs):\n",
    "        total_loss = 0\n",
    "        correct = 0\n",
    "        total = 0\n",
    "\n",
    "        for images, labels in train_loader:\n",
    "            optimizer.zero_grad()\n",
    "            outputs = model(images)\n",
    "            loss = criterion(outputs, labels)\n",
    "            loss.backward()\n",
    "            optimizer.step()\n",
    "\n",
    "            total_loss += loss.item()\n",
    "            _, predicted = torch.max(outputs, 1)\n",
    "            correct += (predicted == labels).sum().item()\n",
    "            total += labels.size(0)\n",
    "\n",
    "        accuracy = 100 * correct / total\n",
    "        print(f\"Epoch {epoch+1}/{epochs}, Loss: {total_loss:.4f}, Accuracy: {accuracy:.2f}%\")\n",
    "\n",
    "train_model(model, train_loader, optimizer, criterion, epochs=50)\n"
   ]
  },
  {
   "cell_type": "code",
   "execution_count": 7,
   "metadata": {
    "colab": {
     "base_uri": "https://localhost:8080/"
    },
    "id": "KoHGT9kfNhws",
    "outputId": "954fb610-cf2e-4967-af86-3fb24faf99db"
   },
   "outputs": [
    {
     "name": "stdout",
     "output_type": "stream",
     "text": [
      "Model saved!\n"
     ]
    }
   ],
   "source": [
    "torch.save(model.state_dict(), \"digit_classifier.pth\")\n",
    "print(\"Model saved!\")\n"
   ]
  },
  {
   "cell_type": "code",
   "execution_count": 8,
   "metadata": {
    "id": "V0_sSM8wNl3D"
   },
   "outputs": [],
   "source": [
    "def test_model(model, test_loader):\n",
    "    model.eval()\n",
    "    correct = 0\n",
    "    total = 0\n",
    "    with torch.no_grad():\n",
    "        for images, labels in test_loader:\n",
    "            outputs = model(images)\n",
    "            _, predicted = torch.max(outputs, 1)\n",
    "            correct += (predicted == labels).sum().item()\n",
    "            total += labels.size(0)\n",
    "    accuracy = 100 * correct / total\n",
    "    print(f\"Test Accuracy: {accuracy:.2f}%\")\n"
   ]
  },
  {
   "cell_type": "code",
   "execution_count": 9,
   "metadata": {
    "colab": {
     "base_uri": "https://localhost:8080/",
     "height": 99
    },
    "id": "gbKjRo98NrGU",
    "outputId": "52980317-97fe-4160-dd74-3b27976613b1"
   },
   "outputs": [
    {
     "name": "stdout",
     "output_type": "stream",
     "text": [
      "Downloading http://yann.lecun.com/exdb/mnist/train-images-idx3-ubyte.gz\n",
      "Failed to download (trying next):\n",
      "HTTP Error 403: Forbidden\n",
      "\n",
      "Downloading https://ossci-datasets.s3.amazonaws.com/mnist/train-images-idx3-ubyte.gz\n",
      "Downloading https://ossci-datasets.s3.amazonaws.com/mnist/train-images-idx3-ubyte.gz to ./data\\MNIST\\raw\\train-images-idx3-ubyte.gz\n"
     ]
    },
    {
     "name": "stderr",
     "output_type": "stream",
     "text": [
      "100%|██████████| 9912422/9912422 [00:01<00:00, 8665695.63it/s] \n"
     ]
    },
    {
     "name": "stdout",
     "output_type": "stream",
     "text": [
      "Extracting ./data\\MNIST\\raw\\train-images-idx3-ubyte.gz to ./data\\MNIST\\raw\n",
      "\n",
      "Downloading http://yann.lecun.com/exdb/mnist/train-labels-idx1-ubyte.gz\n",
      "Failed to download (trying next):\n",
      "HTTP Error 403: Forbidden\n",
      "\n",
      "Downloading https://ossci-datasets.s3.amazonaws.com/mnist/train-labels-idx1-ubyte.gz\n",
      "Downloading https://ossci-datasets.s3.amazonaws.com/mnist/train-labels-idx1-ubyte.gz to ./data\\MNIST\\raw\\train-labels-idx1-ubyte.gz\n"
     ]
    },
    {
     "name": "stderr",
     "output_type": "stream",
     "text": [
      "100%|██████████| 28881/28881 [00:00<00:00, 1176097.53it/s]\n"
     ]
    },
    {
     "name": "stdout",
     "output_type": "stream",
     "text": [
      "Extracting ./data\\MNIST\\raw\\train-labels-idx1-ubyte.gz to ./data\\MNIST\\raw\n",
      "\n",
      "Downloading http://yann.lecun.com/exdb/mnist/t10k-images-idx3-ubyte.gz\n",
      "Failed to download (trying next):\n",
      "HTTP Error 403: Forbidden\n",
      "\n",
      "Downloading https://ossci-datasets.s3.amazonaws.com/mnist/t10k-images-idx3-ubyte.gz\n",
      "Downloading https://ossci-datasets.s3.amazonaws.com/mnist/t10k-images-idx3-ubyte.gz to ./data\\MNIST\\raw\\t10k-images-idx3-ubyte.gz\n"
     ]
    },
    {
     "name": "stderr",
     "output_type": "stream",
     "text": [
      "100%|██████████| 1648877/1648877 [00:00<00:00, 4610732.59it/s]\n"
     ]
    },
    {
     "name": "stdout",
     "output_type": "stream",
     "text": [
      "Extracting ./data\\MNIST\\raw\\t10k-images-idx3-ubyte.gz to ./data\\MNIST\\raw\n",
      "\n",
      "Downloading http://yann.lecun.com/exdb/mnist/t10k-labels-idx1-ubyte.gz\n",
      "Failed to download (trying next):\n",
      "HTTP Error 403: Forbidden\n",
      "\n",
      "Downloading https://ossci-datasets.s3.amazonaws.com/mnist/t10k-labels-idx1-ubyte.gz\n",
      "Downloading https://ossci-datasets.s3.amazonaws.com/mnist/t10k-labels-idx1-ubyte.gz to ./data\\MNIST\\raw\\t10k-labels-idx1-ubyte.gz\n"
     ]
    },
    {
     "name": "stderr",
     "output_type": "stream",
     "text": [
      "100%|██████████| 4542/4542 [00:00<00:00, 1911168.62it/s]\n"
     ]
    },
    {
     "name": "stdout",
     "output_type": "stream",
     "text": [
      "Extracting ./data\\MNIST\\raw\\t10k-labels-idx1-ubyte.gz to ./data\\MNIST\\raw\n",
      "\n"
     ]
    },
    {
     "data": {
      "image/png": "[encoded data removed]",
      "text/plain": [
       "<Figure size 1500x500 with 16 Axes>"
      ]
     },
     "metadata": {},
     "output_type": "display_data"
    }
   ],
   "source": [
    "import matplotlib.pyplot as plt\n",
    "from torchvision import datasets, transforms\n",
    "from torch.utils.data import DataLoader\n",
    "\n",
    "mnist_transform = transforms.Compose([\n",
    "    transforms.Grayscale(num_output_channels=1),\n",
    "    transforms.Resize((28, 28)),\n",
    "    transforms.ToTensor(),\n",
    "    transforms.Normalize((0.5,), (0.5,))\n",
    "])\n",
    "\n",
    "mnist_test_dataset = datasets.MNIST(\n",
    "    root=\"./data\",\n",
    "    train=False,\n",
    "    download=True,\n",
    "    transform=mnist_transform\n",
    ")\n",
    "\n",
    "mnist_test_loader = DataLoader(mnist_test_dataset, batch_size=16, shuffle=True)\n",
    "\n",
    "\n",
    "def show_mnist_images(data_loader):\n",
    "    data_iter = iter(data_loader)\n",
    "    images, labels = next(data_iter)\n",
    "    images = images.squeeze(1)\n",
    "\n",
    "    fig, axes = plt.subplots(1, len(images), figsize=(15, 5))\n",
    "    for idx, (img, label) in enumerate(zip(images, labels)):\n",
    "        axes[idx].imshow(img.numpy(), cmap=\"gray\")\n",
    "        axes[idx].set_title(f\"Label: {label.item()}\")\n",
    "        axes[idx].axis(\"off\")\n",
    "    plt.show()\n",
    "\n",
    "show_mnist_images(mnist_test_loader)\n"
   ]
  },
  {
   "cell_type": "code",
   "execution_count": 10,
   "metadata": {
    "colab": {
     "base_uri": "https://localhost:8080/"
    },
    "id": "ClrBFHYNOjx7",
    "outputId": "fa7a3426-4066-42e6-d6fa-8b84463014bd"
   },
   "outputs": [
    {
     "name": "stdout",
     "output_type": "stream",
     "text": [
      "Test Accuracy: 10.13%\n"
     ]
    }
   ],
   "source": [
    "model = DigitClassifier(num_classes=10)\n",
    "model.load_state_dict(torch.load(\"digit_classifier.pth\"))\n",
    "\n",
    "test_model(model, mnist_test_loader)\n"
   ]
  }
 ],
 "metadata": {
  "accelerator": "GPU",
  "colab": {
   "gpuType": "T4",
   "provenance": []
  },
  "kernelspec": {
   "display_name": "base",
   "language": "python",
   "name": "python3"
  },
  "language_info": {
   "codemirror_mode": {
    "name": "ipython",
    "version": 3
   },
   "file_extension": ".py",
   "mimetype": "text/x-python",
   "name": "python",
   "nbconvert_exporter": "python",
   "pygments_lexer": "ipython3",
   "version": "3.11.5"
  }
 },
 "nbformat": 4,
 "nbformat_minor": 0
}
